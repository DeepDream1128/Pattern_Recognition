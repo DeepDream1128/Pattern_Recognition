if F.softmax(output, dim=1).max() < 0.5:
        #     return -1